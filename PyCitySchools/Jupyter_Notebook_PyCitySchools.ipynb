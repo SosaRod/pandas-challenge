{
 "cells": [
  {
   "cell_type": "code",
   "execution_count": null,
   "id": "af527a7e-c706-4bea-8997-bda44306a27b",
   "metadata": {},
   "outputs": [],
   "source": []
  }
 ],
 "metadata": {
  "kernelspec": {
   "display_name": "",
   "name": ""
  },
  "language_info": {
   "name": ""
  }
 },
 "nbformat": 4,
 "nbformat_minor": 5
}
